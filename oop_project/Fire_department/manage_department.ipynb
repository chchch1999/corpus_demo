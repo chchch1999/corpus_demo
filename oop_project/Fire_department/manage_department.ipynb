{
 "cells": [
  {
   "cell_type": "code",
   "execution_count": 2,
   "id": "e41a25b6e697e8f",
   "metadata": {
    "ExecuteTime": {
     "end_time": "2023-09-21T18:57:15.881117Z",
     "start_time": "2023-09-21T18:57:15.869078Z"
    },
    "collapsed": false
   },
   "outputs": [
    {
     "name": "stdout",
     "output_type": "stream",
     "text": [
      "Your home directory: /Users/chchch1999\n",
      "Your current work directory: /Users/chchch1999/project_demo/Fire department\n",
      "Directory contents: ['.DS_Store', 'manage_department.ipynb', 'vehicles.json', 'manage_department.py', 'users.json', 'README.html', 'fire', '.gitattributes', '.git', '.idea']\n"
     ]
    }
   ],
   "source": [
    "import os\n",
    "import importlib\n",
    "print(f\"Your home directory: {os.path.expanduser('~')}\")\n",
    "print(f\"Your current work directory: {os.getcwd()}\")\n",
    "print('Directory contents: ' + str(os.listdir()))"
   ]
  },
  {
   "cell_type": "markdown",
   "id": "12e55f38041b10f5",
   "metadata": {
    "collapsed": false
   },
   "source": [
    "When you are in the correct directory, above you should see this file listed among the directory contents, as well as a directory called 'fire'. If not, please uncomment and tweak the os.chdir() directive above until you do see those."
   ]
  },
  {
   "cell_type": "code",
   "execution_count": 1,
   "id": "68bb2500d1357e15",
   "metadata": {
    "ExecuteTime": {
     "end_time": "2023-09-21T18:58:52.992522Z",
     "start_time": "2023-09-21T18:58:52.980192Z"
    },
    "collapsed": false
   },
   "outputs": [
    {
     "name": "stdout",
     "output_type": "stream",
     "text": [
      "dev: loading module fire.user\n",
      "dev: loading module fire.option\n",
      "dev: loading module fire.manager\n"
     ]
    }
   ],
   "source": [
    "from fire import manager\n",
    "# importlib.reload() makes sure that you always run the latest version of your code\n",
    "importlib.reload(manager)\n",
    "manager.main()"
   ]
  },
  {
   "cell_type": "code",
   "execution_count": 2,
   "id": "8b8d3bd4",
   "metadata": {},
   "outputs": [
    {
     "name": "stderr",
     "output_type": "stream",
     "text": [
      "test_comparison_methods (fire.test.TestVehicle.test_comparison_methods) ... ok\n",
      "test_copy_method (fire.test.TestVehicle.test_copy_method) ... ok\n",
      "test_fuel_level_range (fire.test.TestVehicle.test_fuel_level_range) ... ok\n",
      "test_invalid_properties (fire.test.TestVehicle.test_invalid_properties) ... ok\n",
      "test_range_calculation (fire.test.TestVehicle.test_range_calculation) ... ok\n",
      "test_unique_call_sign (fire.test.TestVehicle.test_unique_call_sign) ... ok\n",
      "test_valid_combinations (fire.test.TestVehicle.test_valid_combinations) ... ok\n",
      "test_weight_range (fire.test.TestVehicle.test_weight_range) ... ok\n",
      "\n",
      "----------------------------------------------------------------------\n",
      "Ran 8 tests in 0.004s\n",
      "\n",
      "OK\n"
     ]
    },
    {
     "name": "stdout",
     "output_type": "stream",
     "text": [
      "loading fire package\n",
      "dev: loading module fire.test\n",
      "dev: loading module fire.vehicle\n",
      "dev: loading module fire.user\n"
     ]
    }
   ],
   "source": [
    "from fire import test\n",
    "import unittest\n",
    "\n",
    "if __name__ == \"__main__\":\n",
    "    loader = unittest.TestLoader()\n",
    "    suite = loader.loadTestsFromTestCase(test.TestVehicle)\n",
    "\n",
    "    runner = unittest.TextTestRunner(verbosity=2)\n",
    "    result = runner.run(suite)\n",
    "\n",
    "    if not result.wasSuccessful():\n",
    "        exit(1)\n"
   ]
  }
 ],
 "metadata": {
  "kernelspec": {
   "display_name": "Python 3",
   "language": "python",
   "name": "python3"
  },
  "language_info": {
   "codemirror_mode": {
    "name": "ipython",
    "version": 3
   },
   "file_extension": ".py",
   "mimetype": "text/x-python",
   "name": "python",
   "nbconvert_exporter": "python",
   "pygments_lexer": "ipython3",
   "version": "3.11.3"
  }
 },
 "nbformat": 4,
 "nbformat_minor": 5
}
